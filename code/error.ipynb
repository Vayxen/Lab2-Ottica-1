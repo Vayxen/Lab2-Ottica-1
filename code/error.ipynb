{
 "cells": [
  {
   "cell_type": "code",
   "execution_count": 15,
   "metadata": {},
   "outputs": [],
   "source": [
    "#* Import and settings\n",
    "import os\n",
    "from os import path\n",
    "import re\n",
    "\n",
    "import numpy as np\n",
    "from scipy.optimize import curve_fit\n",
    "import sympy as sp\n",
    "from sympy import Symbol as s\n",
    "import pandas as pd\n",
    "import matplotlib as mpl\n",
    "import matplotlib.pyplot as plt\n",
    "import seaborn as sns\n",
    "from lab_tools import graph, lab_round\n",
    "\n",
    "%matplotlib widget\n",
    "\n",
    "width = 469.75502 # To get the page width insert \"\\the\\textwidth\" in your LaTeX document\n",
    "graph_path = \"../images/\"\n",
    "data_path = \"../data/\"\n",
    "\n",
    "mpl.rcParams.update({\n",
    "    # Show minor ticks\n",
    "    \"ytick.minor.visible\": True,\n",
    "    \"xtick.minor.visible\": True,\n",
    "    # Use LaTeX to write all text\n",
    "    \"text.usetex\": True,\n",
    "    \"font.family\": \"serif\",\n",
    "    # Use 10pt font in plots, to match 10pt font in document\n",
    "    \"axes.labelsize\": 11,\n",
    "    \"font.size\": 11,\n",
    "    # Make the legend/label fonts a little smaller\n",
    "    \"legend.fontsize\": 9,\n",
    "    \"xtick.labelsize\": 9,\n",
    "    \"ytick.labelsize\": 9,\n",
    "    # High resolution .png\n",
    "    \"savefig.dpi\": 600,\n",
    "    # Default image size\n",
    "    \"figure.figsize\": graph.size(width),\n",
    "})"
   ]
  },
  {
   "cell_type": "code",
   "execution_count": 16,
   "metadata": {},
   "outputs": [],
   "source": [
    "RAD_TO_METER = 0.0789 / (2 * np.pi)"
   ]
  },
  {
   "cell_type": "code",
   "execution_count": 17,
   "metadata": {},
   "outputs": [],
   "source": [
    "raw_data_path = path.join(data_path, \"raw\")\n",
    "error_data_path = path.join(data_path, \"error\")\n",
    "\n",
    "file_list = [\n",
    "    file\n",
    "    for file in os.listdir(raw_data_path\n",
    "    )\n",
    "    if re.search(r\"[\\d\\.]+_[\\d\\.]+_[\\d]+_[\\w]+\", file)\n",
    "]\n",
    "\n",
    "for file in file_list:\n",
    "    match = re.search(r\"[\\d\\.]+_[\\d\\.]+_(?P<scale>[\\d])+_[\\w]+\", file)\n",
    "    df = pd.read_csv(\n",
    "        path.join(raw_data_path, file),\n",
    "        sep=r\"\\t\",\n",
    "        engine=\"python\",\n",
    "    )\n",
    "\n",
    "    df['da'] = [0.09 / 180 * 2 * np.pi] * len(df.a)\n",
    "    df['dy'] = df.da * RAD_TO_METER\n",
    "    df['dI'] = [0.001] * len(df.I)\n",
    "\n",
    "    df = df[['t', 'I', 'dI', 'a', 'da', 'y', 'dy']]\n",
    "    df.to_csv(path.join(error_data_path, file))"
   ]
  }
 ],
 "metadata": {
  "interpreter": {
   "hash": "ed78154a49b2b3dad729e4d9e2efd965e357ca6256d057e1f33f6183f7d4f2a6"
  },
  "kernelspec": {
   "display_name": "Python 3.10.2 64-bit",
   "language": "python",
   "name": "python3"
  },
  "language_info": {
   "codemirror_mode": {
    "name": "ipython",
    "version": 3
   },
   "file_extension": ".py",
   "mimetype": "text/x-python",
   "name": "python",
   "nbconvert_exporter": "python",
   "pygments_lexer": "ipython3",
   "version": "3.10.2"
  },
  "orig_nbformat": 4
 },
 "nbformat": 4,
 "nbformat_minor": 2
}
